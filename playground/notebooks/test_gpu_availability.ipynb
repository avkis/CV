{
 "cells": [
  {
   "cell_type": "code",
   "execution_count": 1,
   "id": "ad651968-1716-4153-8177-5df1bbca8947",
   "metadata": {},
   "outputs": [
    {
     "name": "stdout",
     "output_type": "stream",
     "text": [
      "PyTorch: CUDA is available with 1 GPU(s)\n"
     ]
    }
   ],
   "source": [
    "import torch\n",
    "\n",
    "# Check if CUDA (GPU support) is available\n",
    "if torch.cuda.is_available():\n",
    "    # Get the number of available GPUs\n",
    "    num_gpus = torch.cuda.device_count()\n",
    "    print(f\"PyTorch: CUDA is available with {num_gpus} GPU(s)\")\n",
    "else:\n",
    "    print(\"PyTorch: CUDA is not available, using CPU.\")"
   ]
  },
  {
   "cell_type": "code",
   "execution_count": 3,
   "id": "495892f7-aac9-48d9-83a0-f732a8f9f833",
   "metadata": {},
   "outputs": [
    {
     "name": "stdout",
     "output_type": "stream",
     "text": [
      "TensorFlow: GPU is available with 1 GPU(s)\n"
     ]
    }
   ],
   "source": [
    "import tensorflow as tf\n",
    "\n",
    "# Check if GPU is available\n",
    "if tf.config.list_physical_devices('GPU'):\n",
    "    # Get the number of available GPUs\n",
    "    num_gpus = len(tf.config.list_physical_devices('GPU'))\n",
    "    print(f\"TensorFlow: GPU is available with {num_gpus} GPU(s)\")\n",
    "else:\n",
    "    print(\"TensorFlow: GPU is not available, using CPU.\")"
   ]
  }
 ],
 "metadata": {
  "kernelspec": {
   "display_name": "Python 3 (ipykernel)",
   "language": "python",
   "name": "python3"
  },
  "language_info": {
   "codemirror_mode": {
    "name": "ipython",
    "version": 3
   },
   "file_extension": ".py",
   "mimetype": "text/x-python",
   "name": "python",
   "nbconvert_exporter": "python",
   "pygments_lexer": "ipython3",
   "version": "3.10.12"
  }
 },
 "nbformat": 4,
 "nbformat_minor": 5
}
